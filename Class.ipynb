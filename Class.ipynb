{
 "cells": [
  {
   "cell_type": "code",
   "execution_count": 0,
   "metadata": {
    "application/vnd.databricks.v1+cell": {
     "cellMetadata": {
      "byteLimit": 2048000,
      "rowLimit": 10000
     },
     "inputWidgets": {},
     "nuid": "7b28b051-85b1-4e29-9377-c6755d137894",
     "showTitle": false,
     "tableResultSettingsMap": {},
     "title": ""
    }
   },
   "outputs": [],
   "source": [
    "from pyspark.sql.functions import *\n",
    "from pyspark.sql.window import *"
   ]
  },
  {
   "cell_type": "code",
   "execution_count": 0,
   "metadata": {
    "application/vnd.databricks.v1+cell": {
     "cellMetadata": {
      "byteLimit": 2048000,
      "rowLimit": 10000
     },
     "inputWidgets": {},
     "nuid": "0dfbd893-002a-4e61-8d34-5ef1c928033f",
     "showTitle": false,
     "tableResultSettingsMap": {},
     "title": ""
    }
   },
   "outputs": [],
   "source": [
    "class DataValidation():\n",
    "\n",
    "    def __init__(self, df):\n",
    "\n",
    "        self.df = df\n",
    "\n",
    "    def dedup(self, keyCol, cdcCol):\n",
    "\n",
    "        df = self.df.withColumn(\"dedup\", row_number().over(Window.partitionBy(keyCol).orderBy(desc(cdcCol))))\n",
    "\n",
    "        df = df.filter(col(\"dedup\") == 1).drop(\"dedup\")\n",
    "\n",
    "        return df\n",
    "    \n",
    "\n",
    "    def removeNulls(self, nullCol):\n",
    "\n",
    "        df = self.df.filter(col(nullCol).isNotNull())\n",
    "\n",
    "        return df"
   ]
  },
  {
   "cell_type": "code",
   "execution_count": 0,
   "metadata": {
    "application/vnd.databricks.v1+cell": {
     "cellMetadata": {
      "byteLimit": 2048000,
      "rowLimit": 10000
     },
     "inputWidgets": {},
     "nuid": "e43b3f61-7402-4612-b931-bf67ef1d4682",
     "showTitle": false,
     "tableResultSettingsMap": {},
     "title": ""
    }
   },
   "outputs": [],
   "source": [
    "df = spark.createDataFrame([(1,'a', '18-09-2025'), (1,'a', '19-09-2025') , (2,'b', '18-09-2025'), (3,'c', '18-09-2025')], ['id','name','date'])\n",
    "\n",
    "df.display()"
   ]
  },
  {
   "cell_type": "code",
   "execution_count": 0,
   "metadata": {
    "application/vnd.databricks.v1+cell": {
     "cellMetadata": {
      "byteLimit": 2048000,
      "rowLimit": 10000
     },
     "inputWidgets": {},
     "nuid": "f82d7b45-98b5-4fcf-a851-90943263ba96",
     "showTitle": false,
     "tableResultSettingsMap": {},
     "title": ""
    }
   },
   "outputs": [],
   "source": [
    "cls_object = DataValidation(df)\n",
    "\n",
    "df_dedup = cls_object.dedup('id', 'date')\n",
    "\n",
    "df_dedup.display()"
   ]
  }
 ],
 "metadata": {
  "application/vnd.databricks.v1+notebook": {
   "computePreferences": null,
   "dashboards": [],
   "environmentMetadata": {
    "base_environment": "",
    "environment_version": "3"
   },
   "inputWidgetPreferences": null,
   "language": "python",
   "notebookMetadata": {
    "pythonIndentUnit": 4
   },
   "notebookName": "Class",
   "widgets": {}
  },
  "language_info": {
   "name": "python"
  }
 },
 "nbformat": 4,
 "nbformat_minor": 0
}
