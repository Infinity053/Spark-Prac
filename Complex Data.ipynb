{
 "cells": [
  {
   "cell_type": "code",
   "execution_count": 0,
   "metadata": {
    "application/vnd.databricks.v1+cell": {
     "cellMetadata": {
      "byteLimit": 2048000,
      "rowLimit": 10000
     },
     "inputWidgets": {},
     "nuid": "065bbb5e-c0a0-49fe-8332-c5a8e6c7f665",
     "showTitle": false,
     "tableResultSettingsMap": {},
     "title": ""
    }
   },
   "outputs": [],
   "source": [
    "from pyspark.sql.functions import *\n",
    "from pyspark.sql.types import *"
   ]
  },
  {
   "cell_type": "code",
   "execution_count": 0,
   "metadata": {
    "application/vnd.databricks.v1+cell": {
     "cellMetadata": {
      "byteLimit": 2048000,
      "rowLimit": 10000
     },
     "inputWidgets": {},
     "nuid": "8f7e3a22-389b-423b-9fb7-a9f254622ec4",
     "showTitle": false,
     "tableResultSettingsMap": {},
     "title": ""
    }
   },
   "outputs": [],
   "source": [
    "schema = StructType([\n",
    "    StructField(\"order_id\",IntegerType(), True),\n",
    "    StructField(\"customer_id\",IntegerType(), True),\n",
    "    StructField(\"order_date\",StringType(), True),\n",
    "    StructField(\"amount\",DoubleType(), True)\n",
    "])\n",
    "\n",
    "stream_df = spark.readStream\\\n",
    "                .format(\"csv\")\\\n",
    "                .schema(schema)\\\n",
    "                .option(\"header\", \"true\")\\\n",
    "                .option(\"maxFilesPerTrigger\", 1)\\\n",
    "                .option(\"path\",\"/Volumes/spark_cata/source/streaming/orders_initial.csv\")\\\n",
    "                .load()"
   ]
  },
  {
   "cell_type": "code",
   "execution_count": 0,
   "metadata": {
    "application/vnd.databricks.v1+cell": {
     "cellMetadata": {
      "byteLimit": 2048000,
      "rowLimit": 10000
     },
     "inputWidgets": {},
     "nuid": "adf60763-d5e1-454c-a8fe-418818d331d9",
     "showTitle": false,
     "tableResultSettingsMap": {},
     "title": ""
    }
   },
   "outputs": [],
   "source": [
    "display(\n",
    "    stream_df,\n",
    "    checkpointLocation=\"dbfs:/tmp/streaming_checkpoint\"\n",
    ")"
   ]
  }
 ],
 "metadata": {
  "application/vnd.databricks.v1+notebook": {
   "computePreferences": null,
   "dashboards": [],
   "environmentMetadata": {
    "base_environment": "",
    "environment_version": "4"
   },
   "inputWidgetPreferences": null,
   "language": "python",
   "notebookMetadata": {
    "pythonIndentUnit": 4
   },
   "notebookName": "Complex Data",
   "widgets": {}
  },
  "language_info": {
   "name": "python"
  }
 },
 "nbformat": 4,
 "nbformat_minor": 0
}
