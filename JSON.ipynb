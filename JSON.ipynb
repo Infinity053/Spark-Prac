{
 "cells": [
  {
   "cell_type": "code",
   "execution_count": 0,
   "metadata": {
    "application/vnd.databricks.v1+cell": {
     "cellMetadata": {
      "byteLimit": 2048000,
      "rowLimit": 10000
     },
     "inputWidgets": {},
     "nuid": "b1eaecb4-6dce-429d-a9c8-965b002f4e55",
     "showTitle": false,
     "tableResultSettingsMap": {},
     "title": ""
    }
   },
   "outputs": [],
   "source": [
    "df = spark.read.format('json')\\\n",
    "            .option('inferSchema', True)\\\n",
    "            .option('multiLine',True)\\\n",
    "            .load('/Volumes/spark_cata/source/db_volume/jsonData/')"
   ]
  },
  {
   "cell_type": "code",
   "execution_count": 0,
   "metadata": {
    "application/vnd.databricks.v1+cell": {
     "cellMetadata": {
      "byteLimit": 2048000,
      "rowLimit": 10000
     },
     "inputWidgets": {},
     "nuid": "4cf64d37-44a7-4688-b64f-bd606f07a4c1",
     "showTitle": false,
     "tableResultSettingsMap": {
      "0": {
       "dataGridStateBlob": "{\"version\":1,\"tableState\":{\"columnPinning\":{\"left\":[\"#row_number#\"],\"right\":[]},\"columnSizing\":{},\"columnVisibility\":{}},\"settings\":{\"columns\":{}},\"syncTimestamp\":1758264738428}",
       "filterBlob": null,
       "queryPlanFiltersBlob": null,
       "tableResultIndex": 0
      }
     },
     "title": ""
    }
   },
   "outputs": [],
   "source": [
    "from pyspark.sql.functions import *\n",
    "\n",
    "df_cust = df.select(\"customer.customer_id\", \"customer.email\", \"customer.location.city\", \"customer.name\", \"*\").drop(\"customer\")\n",
    "\n",
    "df_cust_expld = df_cust.withColumn(\"delivery_updates\", explode(\"delivery_updates\"))\\\n",
    "                        .withColumn(\"items\", explode(\"items\"))\n",
    "\n",
    "df_cust_expld = df_cust_expld.select(\"*\", \"items.item_id\", \"items.price_per_unit\", \"items.product_name\", \"items.quantity\").drop(\"items\")\n",
    "\n",
    "df_cust_expld.display()"
   ]
  }
 ],
 "metadata": {
  "application/vnd.databricks.v1+notebook": {
   "computePreferences": null,
   "dashboards": [],
   "environmentMetadata": {
    "base_environment": "",
    "environment_version": "3"
   },
   "inputWidgetPreferences": null,
   "language": "python",
   "notebookMetadata": {
    "pythonIndentUnit": 4
   },
   "notebookName": "JSON",
   "widgets": {}
  },
  "language_info": {
   "name": "python"
  }
 },
 "nbformat": 4,
 "nbformat_minor": 0
}
